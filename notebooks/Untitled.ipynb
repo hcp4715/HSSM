{
 "cells": [
  {
   "cell_type": "code",
   "execution_count": 1,
   "id": "7f10b016-846b-409e-8608-ef9fd2e76267",
   "metadata": {},
   "outputs": [
    {
     "ename": "ImportError",
     "evalue": "cannot import name 'LogLikeFunc' from partially initialized module 'hssm.wfpt.wfpt' (most likely due to a circular import) (/Users/yxu150/HSSM/src/hssm/wfpt/wfpt.py)",
     "output_type": "error",
     "traceback": [
      "\u001b[0;31m---------------------------------------------------------------------------\u001b[0m",
      "\u001b[0;31mImportError\u001b[0m                               Traceback (most recent call last)",
      "Cell \u001b[0;32mIn [1], line 1\u001b[0m\n\u001b[0;32m----> 1\u001b[0m \u001b[38;5;28;01mfrom\u001b[39;00m \u001b[38;5;21;01mhssm\u001b[39;00m\u001b[38;5;21;01m.\u001b[39;00m\u001b[38;5;21;01mwfpt\u001b[39;00m\u001b[38;5;21;01m.\u001b[39;00m\u001b[38;5;21;01mwfpt\u001b[39;00m \u001b[38;5;28;01mimport\u001b[39;00m WFPT\n",
      "File \u001b[0;32m~/HSSM/src/hssm/wfpt/wfpt.py:18\u001b[0m\n\u001b[1;32m     15\u001b[0m \u001b[38;5;28;01mfrom\u001b[39;00m \u001b[38;5;21;01mnumpy\u001b[39;00m\u001b[38;5;21;01m.\u001b[39;00m\u001b[38;5;21;01mtyping\u001b[39;00m \u001b[38;5;28;01mimport\u001b[39;00m ArrayLike\n\u001b[1;32m     17\u001b[0m \u001b[38;5;28;01mfrom\u001b[39;00m \u001b[38;5;21;01mhssm\u001b[39;00m\u001b[38;5;21;01m.\u001b[39;00m\u001b[38;5;21;01mwfpt\u001b[39;00m\u001b[38;5;21;01m.\u001b[39;00m\u001b[38;5;21;01mclassic\u001b[39;00m \u001b[38;5;28;01mimport\u001b[39;00m WFPTClassic, WFPTRandomVariable\n\u001b[0;32m---> 18\u001b[0m \u001b[38;5;28;01mfrom\u001b[39;00m \u001b[38;5;21;01mhssm\u001b[39;00m\u001b[38;5;21;01m.\u001b[39;00m\u001b[38;5;21;01mwfpt\u001b[39;00m\u001b[38;5;21;01m.\u001b[39;00m\u001b[38;5;21;01mlan\u001b[39;00m \u001b[38;5;28;01mimport\u001b[39;00m LAN\n\u001b[1;32m     20\u001b[0m LogLikeFunc \u001b[38;5;241m=\u001b[39m Callable[\u001b[38;5;241m.\u001b[39m\u001b[38;5;241m.\u001b[39m\u001b[38;5;241m.\u001b[39m, ArrayLike]\n\u001b[1;32m     21\u001b[0m LogLikeGrad \u001b[38;5;241m=\u001b[39m Callable[\u001b[38;5;241m.\u001b[39m\u001b[38;5;241m.\u001b[39m\u001b[38;5;241m.\u001b[39m, ArrayLike]\n",
      "File \u001b[0;32m~/HSSM/src/hssm/wfpt/lan.py:25\u001b[0m\n\u001b[1;32m     22\u001b[0m \u001b[38;5;28;01mfrom\u001b[39;00m \u001b[38;5;21;01mnumpy\u001b[39;00m\u001b[38;5;21;01m.\u001b[39;00m\u001b[38;5;21;01mtyping\u001b[39;00m \u001b[38;5;28;01mimport\u001b[39;00m ArrayLike\n\u001b[1;32m     24\u001b[0m \u001b[38;5;28;01mfrom\u001b[39;00m \u001b[38;5;21;01mhssm\u001b[39;00m\u001b[38;5;21;01m.\u001b[39;00m\u001b[38;5;21;01mwfpt\u001b[39;00m\u001b[38;5;21;01m.\u001b[39;00m\u001b[38;5;21;01monnx2xla\u001b[39;00m \u001b[38;5;28;01mimport\u001b[39;00m interpret_onnx\n\u001b[0;32m---> 25\u001b[0m \u001b[38;5;28;01mfrom\u001b[39;00m \u001b[38;5;21;01mhssm\u001b[39;00m\u001b[38;5;21;01m.\u001b[39;00m\u001b[38;5;21;01mwfpt\u001b[39;00m\u001b[38;5;21;01m.\u001b[39;00m\u001b[38;5;21;01mwfpt\u001b[39;00m \u001b[38;5;28;01mimport\u001b[39;00m LogLikeFunc, LogLikeGrad\n\u001b[1;32m     28\u001b[0m \u001b[38;5;28;01mclass\u001b[39;00m \u001b[38;5;21;01mLAN\u001b[39;00m:\n\u001b[1;32m     29\u001b[0m     \u001b[38;5;124;03m\"\"\"\u001b[39;00m\n\u001b[1;32m     30\u001b[0m \u001b[38;5;124;03m    A factory class handling LAN-related operations, such as producing log-likelihood\u001b[39;00m\n\u001b[1;32m     31\u001b[0m \u001b[38;5;124;03m    functions from onnx model files and wrapping jax log-likelihood functions in aesara\u001b[39;00m\n\u001b[1;32m     32\u001b[0m \u001b[38;5;124;03m    Ops.\u001b[39;00m\n\u001b[1;32m     33\u001b[0m \u001b[38;5;124;03m    \"\"\"\u001b[39;00m\n",
      "\u001b[0;31mImportError\u001b[0m: cannot import name 'LogLikeFunc' from partially initialized module 'hssm.wfpt.wfpt' (most likely due to a circular import) (/Users/yxu150/HSSM/src/hssm/wfpt/wfpt.py)"
     ]
    }
   ],
   "source": [
    "from hssm.wfpt.wfpt import WFPT"
   ]
  },
  {
   "cell_type": "code",
   "execution_count": null,
   "id": "2cd3e8c0-d835-42f4-8f5c-8236d6764752",
   "metadata": {},
   "outputs": [],
   "source": []
  }
 ],
 "metadata": {
  "kernelspec": {
   "display_name": "Python 3 (ipykernel)",
   "language": "python",
   "name": "python3"
  },
  "language_info": {
   "codemirror_mode": {
    "name": "ipython",
    "version": 3
   },
   "file_extension": ".py",
   "mimetype": "text/x-python",
   "name": "python",
   "nbconvert_exporter": "python",
   "pygments_lexer": "ipython3",
   "version": "3.9.13"
  }
 },
 "nbformat": 4,
 "nbformat_minor": 5
}

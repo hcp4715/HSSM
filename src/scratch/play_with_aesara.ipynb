{
 "cells": [
  {
   "cell_type": "code",
   "execution_count": 6,
   "id": "aa3cff9a-5bf6-4245-87de-d2ca4ff98b71",
   "metadata": {},
   "outputs": [],
   "source": [
    "import aesara\n",
    "import numpy as np\n",
    "import aesara.tensor as at\n",
    "from aesara.ifelse import ifelse\n",
    "\n",
    "from wfpt import make_ftt01w"
   ]
  },
  {
   "cell_type": "code",
   "execution_count": 2,
   "id": "3691238c-0943-4ba1-932c-15ace8cf31eb",
   "metadata": {},
   "outputs": [],
   "source": [
    "tt = np.random.uniform(1, 2, size=1000)\n",
    "w = np.random.uniform(2, 3, size=1000)"
   ]
  },
  {
   "cell_type": "code",
   "execution_count": 3,
   "id": "325308fe-9785-48a1-b5b6-f1fc89f1fff8",
   "metadata": {},
   "outputs": [
    {
     "ename": "TypeError",
     "evalue": "The condition argument must be a truthy scalar value",
     "output_type": "error",
     "traceback": [
      "\u001b[0;31m---------------------------------------------------------------------------\u001b[0m",
      "\u001b[0;31mTypeError\u001b[0m                                 Traceback (most recent call last)",
      "Cell \u001b[0;32mIn [3], line 1\u001b[0m\n\u001b[0;32m----> 1\u001b[0m func \u001b[38;5;241m=\u001b[39m make_ftt01w(tt, w, err\u001b[38;5;241m=\u001b[39m\u001b[38;5;241m1e-7\u001b[39m)\n",
      "File \u001b[0;32m~/HSSM/src/scratch/wfpt.py:92\u001b[0m, in \u001b[0;36mmake_ftt01w\u001b[0;34m(tt, w, err)\u001b[0m\n\u001b[1;32m     89\u001b[0m tt_at \u001b[38;5;241m=\u001b[39m at\u001b[38;5;241m.\u001b[39mmatrices(\u001b[38;5;124m\"\u001b[39m\u001b[38;5;124mtt\u001b[39m\u001b[38;5;124m\"\u001b[39m)\n\u001b[1;32m     91\u001b[0m p_fast \u001b[38;5;241m=\u001b[39m (w \u001b[38;5;241m+\u001b[39m \u001b[38;5;241m2\u001b[39m \u001b[38;5;241m*\u001b[39m k) \u001b[38;5;241m*\u001b[39m at\u001b[38;5;241m.\u001b[39mexp((w \u001b[38;5;241m+\u001b[39m \u001b[38;5;241m2\u001b[39m \u001b[38;5;241m*\u001b[39m k) \u001b[38;5;241m*\u001b[39m\u001b[38;5;241m*\u001b[39m \u001b[38;5;241m2\u001b[39m \u001b[38;5;241m/\u001b[39m (\u001b[38;5;241m2\u001b[39m \u001b[38;5;241m*\u001b[39m tt))\n\u001b[0;32m---> 92\u001b[0m p_fast \u001b[38;5;241m=\u001b[39m \u001b[43mifelse\u001b[49m\u001b[43m(\u001b[49m\u001b[43mat\u001b[49m\u001b[38;5;241;43m.\u001b[39;49m\u001b[43meq\u001b[49m\u001b[43m(\u001b[49m\u001b[43mk\u001b[49m\u001b[43m,\u001b[49m\u001b[43m \u001b[49m\u001b[38;5;241;43m0\u001b[39;49m\u001b[43m)\u001b[49m\u001b[43m,\u001b[49m\u001b[43m \u001b[49m\u001b[38;5;241;43m0\u001b[39;49m\u001b[43m,\u001b[49m\u001b[43m \u001b[49m\u001b[43mp_fast\u001b[49m\u001b[43m)\u001b[49m\n\u001b[1;32m     93\u001b[0m p_fast \u001b[38;5;241m=\u001b[39m at\u001b[38;5;241m.\u001b[39msum(p_fast, axis\u001b[38;5;241m=\u001b[39m\u001b[38;5;241m1\u001b[39m) \u001b[38;5;241m/\u001b[39m at\u001b[38;5;241m.\u001b[39msqrt(\u001b[38;5;241m2\u001b[39m \u001b[38;5;241m*\u001b[39m np\u001b[38;5;241m.\u001b[39mpi \u001b[38;5;241m*\u001b[39m at\u001b[38;5;241m.\u001b[39mpower(tt, \u001b[38;5;241m3\u001b[39m))\n\u001b[1;32m     95\u001b[0m p_slow \u001b[38;5;241m=\u001b[39m k \u001b[38;5;241m*\u001b[39m at\u001b[38;5;241m.\u001b[39mexp(\u001b[38;5;241m-\u001b[39m(k\u001b[38;5;241m*\u001b[39m\u001b[38;5;241m*\u001b[39m\u001b[38;5;241m2\u001b[39m) \u001b[38;5;241m*\u001b[39m np\u001b[38;5;241m.\u001b[39mpi\u001b[38;5;241m*\u001b[39m\u001b[38;5;241m*\u001b[39m\u001b[38;5;241m2\u001b[39m \u001b[38;5;241m*\u001b[39m tt_at \u001b[38;5;241m/\u001b[39m \u001b[38;5;241m2\u001b[39m) \u001b[38;5;241m*\u001b[39m at\u001b[38;5;241m.\u001b[39msin(k \u001b[38;5;241m*\u001b[39m np\u001b[38;5;241m.\u001b[39mpi \u001b[38;5;241m*\u001b[39m w)\n",
      "File \u001b[0;32m~/HSSM/.venv/lib/python3.9/site-packages/aesara/ifelse.py:402\u001b[0m, in \u001b[0;36mifelse\u001b[0;34m(condition, then_branch, else_branch, name)\u001b[0m\n\u001b[1;32m    399\u001b[0m new_ifelse \u001b[38;5;241m=\u001b[39m IfElse(n_outs\u001b[38;5;241m=\u001b[39m\u001b[38;5;28mlen\u001b[39m(then_branch), as_view\u001b[38;5;241m=\u001b[39m\u001b[38;5;28;01mFalse\u001b[39;00m, name\u001b[38;5;241m=\u001b[39mname)\n\u001b[1;32m    401\u001b[0m ins \u001b[38;5;241m=\u001b[39m [condition] \u001b[38;5;241m+\u001b[39m \u001b[38;5;28mlist\u001b[39m(then_branch) \u001b[38;5;241m+\u001b[39m \u001b[38;5;28mlist\u001b[39m(else_branch)\n\u001b[0;32m--> 402\u001b[0m rval \u001b[38;5;241m=\u001b[39m \u001b[43mnew_ifelse\u001b[49m\u001b[43m(\u001b[49m\u001b[38;5;241;43m*\u001b[39;49m\u001b[43mins\u001b[49m\u001b[43m,\u001b[49m\u001b[43m \u001b[49m\u001b[43mreturn_list\u001b[49m\u001b[38;5;241;43m=\u001b[39;49m\u001b[38;5;28;43;01mTrue\u001b[39;49;00m\u001b[43m)\u001b[49m\n\u001b[1;32m    404\u001b[0m \u001b[38;5;28;01mif\u001b[39;00m rval_type \u001b[38;5;129;01mis\u001b[39;00m \u001b[38;5;28;01mNone\u001b[39;00m:\n\u001b[1;32m    405\u001b[0m     \u001b[38;5;28;01mreturn\u001b[39;00m rval[\u001b[38;5;241m0\u001b[39m]\n",
      "File \u001b[0;32m~/HSSM/.venv/lib/python3.9/site-packages/aesara/graph/op.py:297\u001b[0m, in \u001b[0;36mOp.__call__\u001b[0;34m(self, *inputs, **kwargs)\u001b[0m\n\u001b[1;32m    255\u001b[0m \u001b[38;5;124mr\u001b[39m\u001b[38;5;124;03m\"\"\"Construct an `Apply` node using :meth:`Op.make_node` and return its outputs.\u001b[39;00m\n\u001b[1;32m    256\u001b[0m \n\u001b[1;32m    257\u001b[0m \u001b[38;5;124;03mThis method is just a wrapper around :meth:`Op.make_node`.\u001b[39;00m\n\u001b[0;32m   (...)\u001b[0m\n\u001b[1;32m    294\u001b[0m \n\u001b[1;32m    295\u001b[0m \u001b[38;5;124;03m\"\"\"\u001b[39;00m\n\u001b[1;32m    296\u001b[0m return_list \u001b[38;5;241m=\u001b[39m kwargs\u001b[38;5;241m.\u001b[39mpop(\u001b[38;5;124m\"\u001b[39m\u001b[38;5;124mreturn_list\u001b[39m\u001b[38;5;124m\"\u001b[39m, \u001b[38;5;28;01mFalse\u001b[39;00m)\n\u001b[0;32m--> 297\u001b[0m node \u001b[38;5;241m=\u001b[39m \u001b[38;5;28;43mself\u001b[39;49m\u001b[38;5;241;43m.\u001b[39;49m\u001b[43mmake_node\u001b[49m\u001b[43m(\u001b[49m\u001b[38;5;241;43m*\u001b[39;49m\u001b[43minputs\u001b[49m\u001b[43m,\u001b[49m\u001b[43m \u001b[49m\u001b[38;5;241;43m*\u001b[39;49m\u001b[38;5;241;43m*\u001b[39;49m\u001b[43mkwargs\u001b[49m\u001b[43m)\u001b[49m\n\u001b[1;32m    299\u001b[0m \u001b[38;5;28;01mif\u001b[39;00m config\u001b[38;5;241m.\u001b[39mcompute_test_value \u001b[38;5;241m!=\u001b[39m \u001b[38;5;124m\"\u001b[39m\u001b[38;5;124moff\u001b[39m\u001b[38;5;124m\"\u001b[39m:\n\u001b[1;32m    300\u001b[0m     compute_test_value(node)\n",
      "File \u001b[0;32m~/HSSM/.venv/lib/python3.9/site-packages/aesara/ifelse.py:163\u001b[0m, in \u001b[0;36mIfElse.make_node\u001b[0;34m(self, condition, *true_false_branches)\u001b[0m\n\u001b[1;32m    160\u001b[0m condition \u001b[38;5;241m=\u001b[39m at\u001b[38;5;241m.\u001b[39mbasic\u001b[38;5;241m.\u001b[39mas_tensor_variable(condition)\n\u001b[1;32m    162\u001b[0m \u001b[38;5;28;01mif\u001b[39;00m condition\u001b[38;5;241m.\u001b[39mtype\u001b[38;5;241m.\u001b[39mndim \u001b[38;5;241m>\u001b[39m \u001b[38;5;241m0\u001b[39m:\n\u001b[0;32m--> 163\u001b[0m     \u001b[38;5;28;01mraise\u001b[39;00m \u001b[38;5;167;01mTypeError\u001b[39;00m(\u001b[38;5;124m\"\u001b[39m\u001b[38;5;124mThe condition argument must be a truthy scalar value\u001b[39m\u001b[38;5;124m\"\u001b[39m)\n\u001b[1;32m    165\u001b[0m inputs_true_branch \u001b[38;5;241m=\u001b[39m true_false_branches[: \u001b[38;5;28mself\u001b[39m\u001b[38;5;241m.\u001b[39mn_outs]\n\u001b[1;32m    166\u001b[0m inputs_false_branch \u001b[38;5;241m=\u001b[39m true_false_branches[\u001b[38;5;28mself\u001b[39m\u001b[38;5;241m.\u001b[39mn_outs :]\n",
      "\u001b[0;31mTypeError\u001b[0m: The condition argument must be a truthy scalar value"
     ]
    }
   ],
   "source": [
    "func = make_ftt01w(tt, w, err=1e-7)"
   ]
  },
  {
   "cell_type": "code",
   "execution_count": 5,
   "id": "344477d2-24f5-4056-889d-f4bda1c3353e",
   "metadata": {},
   "outputs": [
    {
     "data": {
      "text/plain": [
       "array([ True, False, False, False, False, False, False, False, False,\n",
       "       False])"
      ]
     },
     "execution_count": 5,
     "metadata": {},
     "output_type": "execute_result"
    }
   ],
   "source": [
    "at.eq(np.arange(10), 0)"
   ]
  },
  {
   "cell_type": "code",
   "execution_count": 9,
   "id": "775e3ebb-88c4-43d6-bf4f-3442352ac7c7",
   "metadata": {},
   "outputs": [
    {
     "ename": "TypeError",
     "evalue": "The condition argument must be a truthy scalar value",
     "output_type": "error",
     "traceback": [
      "\u001b[0;31m---------------------------------------------------------------------------\u001b[0m",
      "\u001b[0;31mTypeError\u001b[0m                                 Traceback (most recent call last)",
      "Cell \u001b[0;32mIn [9], line 1\u001b[0m\n\u001b[0;32m----> 1\u001b[0m ifelse(at\u001b[38;5;241m.\u001b[39meq(np\u001b[38;5;241m.\u001b[39marange(\u001b[38;5;241m10\u001b[39m), \u001b[38;5;241m0\u001b[39m)\u001b[38;5;241m.\u001b[39meval(), np\u001b[38;5;241m.\u001b[39mrandom\u001b[38;5;241m.\u001b[39mnormal(size\u001b[38;5;241m=\u001b[39m\u001b[38;5;241m10\u001b[39m), np\u001b[38;5;241m.\u001b[39mrandom\u001b[38;5;241m.\u001b[39muniform(size\u001b[38;5;241m=\u001b[39m\u001b[38;5;241m10\u001b[39m))\n",
      "File \u001b[0;32m~/HSSM/.venv/lib/python3.9/site-packages/aesara/ifelse.py:402\u001b[0m, in \u001b[0;36mifelse\u001b[0;34m(condition, then_branch, else_branch, name)\u001b[0m\n\u001b[1;32m    399\u001b[0m new_ifelse \u001b[38;5;241m=\u001b[39m IfElse(n_outs\u001b[38;5;241m=\u001b[39m\u001b[38;5;28mlen\u001b[39m(then_branch), as_view\u001b[38;5;241m=\u001b[39m\u001b[38;5;28;01mFalse\u001b[39;00m, name\u001b[38;5;241m=\u001b[39mname)\n\u001b[1;32m    401\u001b[0m ins \u001b[38;5;241m=\u001b[39m [condition] \u001b[38;5;241m+\u001b[39m \u001b[38;5;28mlist\u001b[39m(then_branch) \u001b[38;5;241m+\u001b[39m \u001b[38;5;28mlist\u001b[39m(else_branch)\n\u001b[0;32m--> 402\u001b[0m rval \u001b[38;5;241m=\u001b[39m \u001b[43mnew_ifelse\u001b[49m\u001b[43m(\u001b[49m\u001b[38;5;241;43m*\u001b[39;49m\u001b[43mins\u001b[49m\u001b[43m,\u001b[49m\u001b[43m \u001b[49m\u001b[43mreturn_list\u001b[49m\u001b[38;5;241;43m=\u001b[39;49m\u001b[38;5;28;43;01mTrue\u001b[39;49;00m\u001b[43m)\u001b[49m\n\u001b[1;32m    404\u001b[0m \u001b[38;5;28;01mif\u001b[39;00m rval_type \u001b[38;5;129;01mis\u001b[39;00m \u001b[38;5;28;01mNone\u001b[39;00m:\n\u001b[1;32m    405\u001b[0m     \u001b[38;5;28;01mreturn\u001b[39;00m rval[\u001b[38;5;241m0\u001b[39m]\n",
      "File \u001b[0;32m~/HSSM/.venv/lib/python3.9/site-packages/aesara/graph/op.py:297\u001b[0m, in \u001b[0;36mOp.__call__\u001b[0;34m(self, *inputs, **kwargs)\u001b[0m\n\u001b[1;32m    255\u001b[0m \u001b[38;5;124mr\u001b[39m\u001b[38;5;124;03m\"\"\"Construct an `Apply` node using :meth:`Op.make_node` and return its outputs.\u001b[39;00m\n\u001b[1;32m    256\u001b[0m \n\u001b[1;32m    257\u001b[0m \u001b[38;5;124;03mThis method is just a wrapper around :meth:`Op.make_node`.\u001b[39;00m\n\u001b[0;32m   (...)\u001b[0m\n\u001b[1;32m    294\u001b[0m \n\u001b[1;32m    295\u001b[0m \u001b[38;5;124;03m\"\"\"\u001b[39;00m\n\u001b[1;32m    296\u001b[0m return_list \u001b[38;5;241m=\u001b[39m kwargs\u001b[38;5;241m.\u001b[39mpop(\u001b[38;5;124m\"\u001b[39m\u001b[38;5;124mreturn_list\u001b[39m\u001b[38;5;124m\"\u001b[39m, \u001b[38;5;28;01mFalse\u001b[39;00m)\n\u001b[0;32m--> 297\u001b[0m node \u001b[38;5;241m=\u001b[39m \u001b[38;5;28;43mself\u001b[39;49m\u001b[38;5;241;43m.\u001b[39;49m\u001b[43mmake_node\u001b[49m\u001b[43m(\u001b[49m\u001b[38;5;241;43m*\u001b[39;49m\u001b[43minputs\u001b[49m\u001b[43m,\u001b[49m\u001b[43m \u001b[49m\u001b[38;5;241;43m*\u001b[39;49m\u001b[38;5;241;43m*\u001b[39;49m\u001b[43mkwargs\u001b[49m\u001b[43m)\u001b[49m\n\u001b[1;32m    299\u001b[0m \u001b[38;5;28;01mif\u001b[39;00m config\u001b[38;5;241m.\u001b[39mcompute_test_value \u001b[38;5;241m!=\u001b[39m \u001b[38;5;124m\"\u001b[39m\u001b[38;5;124moff\u001b[39m\u001b[38;5;124m\"\u001b[39m:\n\u001b[1;32m    300\u001b[0m     compute_test_value(node)\n",
      "File \u001b[0;32m~/HSSM/.venv/lib/python3.9/site-packages/aesara/ifelse.py:163\u001b[0m, in \u001b[0;36mIfElse.make_node\u001b[0;34m(self, condition, *true_false_branches)\u001b[0m\n\u001b[1;32m    160\u001b[0m condition \u001b[38;5;241m=\u001b[39m at\u001b[38;5;241m.\u001b[39mbasic\u001b[38;5;241m.\u001b[39mas_tensor_variable(condition)\n\u001b[1;32m    162\u001b[0m \u001b[38;5;28;01mif\u001b[39;00m condition\u001b[38;5;241m.\u001b[39mtype\u001b[38;5;241m.\u001b[39mndim \u001b[38;5;241m>\u001b[39m \u001b[38;5;241m0\u001b[39m:\n\u001b[0;32m--> 163\u001b[0m     \u001b[38;5;28;01mraise\u001b[39;00m \u001b[38;5;167;01mTypeError\u001b[39;00m(\u001b[38;5;124m\"\u001b[39m\u001b[38;5;124mThe condition argument must be a truthy scalar value\u001b[39m\u001b[38;5;124m\"\u001b[39m)\n\u001b[1;32m    165\u001b[0m inputs_true_branch \u001b[38;5;241m=\u001b[39m true_false_branches[: \u001b[38;5;28mself\u001b[39m\u001b[38;5;241m.\u001b[39mn_outs]\n\u001b[1;32m    166\u001b[0m inputs_false_branch \u001b[38;5;241m=\u001b[39m true_false_branches[\u001b[38;5;28mself\u001b[39m\u001b[38;5;241m.\u001b[39mn_outs :]\n",
      "\u001b[0;31mTypeError\u001b[0m: The condition argument must be a truthy scalar value"
     ]
    }
   ],
   "source": [
    "ifelse(at.eq(np.arange(10), 0), np.random.normal(size=10), np.random.uniform(size=10))"
   ]
  },
  {
   "cell_type": "code",
   "execution_count": 10,
   "id": "f5dfdf25-9a93-4def-bde3-5b119476e62d",
   "metadata": {},
   "outputs": [],
   "source": [
    "a = np.arange(1000)\n",
    "b = np.random.uniform(size=1000)"
   ]
  },
  {
   "cell_type": "code",
   "execution_count": 13,
   "id": "cf783425-1b06-459c-afff-46e57591bb2f",
   "metadata": {},
   "outputs": [
    {
     "data": {
      "text/plain": [
       "normal_rv{0, (0, 0), floatX, False}.out"
      ]
     },
     "execution_count": 13,
     "metadata": {},
     "output_type": "execute_result"
    }
   ],
   "source": [
    "a_at = at.random.normal(size=10)\n",
    "a_at"
   ]
  },
  {
   "cell_type": "code",
   "execution_count": 15,
   "id": "9027b6f9-a0ab-486d-8ba4-b35dec16fed5",
   "metadata": {},
   "outputs": [
    {
     "data": {
      "text/plain": [
       "Elemwise{add,no_inplace}.0"
      ]
     },
     "execution_count": 15,
     "metadata": {},
     "output_type": "execute_result"
    }
   ],
   "source": [
    "np.arange(10) + a_at"
   ]
  },
  {
   "cell_type": "code",
   "execution_count": null,
   "id": "787f0ae6-5ab5-414a-a2ac-1eabc108362c",
   "metadata": {},
   "outputs": [],
   "source": []
  }
 ],
 "metadata": {
  "kernelspec": {
   "display_name": "Python 3 (ipykernel)",
   "language": "python",
   "name": "python3"
  },
  "language_info": {
   "codemirror_mode": {
    "name": "ipython",
    "version": 3
   },
   "file_extension": ".py",
   "mimetype": "text/x-python",
   "name": "python",
   "nbconvert_exporter": "python",
   "pygments_lexer": "ipython3",
   "version": "3.9.13"
  }
 },
 "nbformat": 4,
 "nbformat_minor": 5
}

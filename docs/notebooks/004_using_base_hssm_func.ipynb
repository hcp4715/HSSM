{
 "cells": [
  {
   "attachments": {},
   "cell_type": "markdown",
   "id": "9ecc15b5-726f-4065-a095-26117b8a4f9c",
   "metadata": {},
   "source": [
    "# Getting Started\n",
    "\n",
    "This notebook demonstrates how to use the HSSM class to create hierarchical models. The tutorial will be based on simulated data from the [SSM Simulators (SSMS)](https://github.com/AlexanderFengler/ssms) package."
   ]
  },
  {
   "cell_type": "code",
   "execution_count": null,
   "id": "6df1c212-64cb-4c39-abae-dd0db3bc2429",
   "metadata": {
    "pycharm": {
     "is_executing": true
    },
    "tags": []
   },
   "outputs": [],
   "source": [
    "import arviz as az\n",
    "import numpy as np\n",
    "import pandas as pd\n",
    "import pytensor\n",
    "\n",
    "import hssm\n",
    "import ssms.basic_simulators\n",
    "\n",
    "pytensor.config.floatX = \"float32\""
   ]
  },
  {
   "attachments": {},
   "cell_type": "markdown",
   "id": "e8e41269-4c1e-4ec5-b2eb-82c35ee860c2",
   "metadata": {},
   "source": [
    "## Simulating a dataset\n",
    "-  `dataset` passed to the model should always include 'rt' and 'response'.\n",
    "-  `dataset` should be a pandas dataframe."
   ]
  },
  {
   "cell_type": "code",
   "execution_count": null,
   "id": "99bd95f4-5775-4142-8d6c-a01bfab7c88e",
   "metadata": {
    "pycharm": {
     "is_executing": true
    },
    "tags": []
   },
   "outputs": [],
   "source": [
    "# Simulate some data\n",
    "v_true, a_true, z_true, t_true, sv_true = [0.5, 1.5, 0.5, 0.5, 0.0]\n",
    "obs_ddm = ssms.basic_simulators.simulator(\n",
    "    [v_true, a_true, z_true, t_true, sv_true], model=\"ddm\", n_samples=1000\n",
    ")\n",
    "obs_ddm = np.column_stack([obs_ddm[\"rts\"][:, 0], obs_ddm[\"choices\"][:, 0]])\n",
    "dataset = pd.DataFrame(obs_ddm, columns=[\"rt\", \"response\"])\n",
    "\n",
    "dataset"
   ]
  },
  {
   "attachments": {},
   "cell_type": "markdown",
   "id": "2e4c6129-ac7c-46d1-928f-96095f97dca6",
   "metadata": {},
   "source": [
    "## The simplest case\n",
    "### DDM using the analytical likelihood function from Navarro & Fuss (2009)"
   ]
  },
  {
   "attachments": {},
   "cell_type": "markdown",
   "id": "408d4ac6-0138-493e-81f8-0a7c31edac3a",
   "metadata": {},
   "source": [
    "#### Analytical model\n",
    "Simplest usage of HSSM, only data needs to be provided."
   ]
  },
  {
   "cell_type": "code",
   "execution_count": null,
   "id": "bde3e564-56f0-4689-886c-fc6f245c0833",
   "metadata": {
    "pycharm": {
     "is_executing": true
    },
    "tags": []
   },
   "outputs": [],
   "source": [
    "simple_ddm_model = hssm.HSSM(data=dataset)\n",
    "simple_ddm_model"
   ]
  },
  {
   "cell_type": "code",
   "execution_count": null,
   "id": "52d254c6-7145-46af-a546-180cc2974a9a",
   "metadata": {
    "pycharm": {
     "is_executing": true
    },
    "tags": []
   },
   "outputs": [],
   "source": [
    "simple_ddm_model.graph()"
   ]
  },
  {
   "cell_type": "code",
   "execution_count": null,
   "id": "6de5037b-cb2c-4d0e-a5e3-5ede4006e50e",
   "metadata": {
    "pycharm": {
     "is_executing": true
    },
    "tags": []
   },
   "outputs": [],
   "source": [
    "simple_ddm_model.sample()"
   ]
  },
  {
   "cell_type": "code",
   "execution_count": null,
   "id": "c018d083-d5fb-4a9d-9f89-583a97592dd7",
   "metadata": {
    "pycharm": {
     "is_executing": true
    },
    "tags": []
   },
   "outputs": [],
   "source": [
    "az.plot_trace(simple_ddm_model.traces);"
   ]
  },
  {
   "cell_type": "code",
   "execution_count": null,
   "id": "decd66e5-b67d-4a80-b57b-bad2f5e364fc",
   "metadata": {
    "pycharm": {
     "is_executing": true
    },
    "tags": []
   },
   "outputs": [],
   "source": [
    "az.summary(simple_ddm_model.traces)"
   ]
  },
  {
   "attachments": {},
   "cell_type": "markdown",
   "id": "0dfe0244-7d58-452d-9b32-7a9e9bb77b9b",
   "metadata": {
    "tags": []
   },
   "source": [
    "## One step up: An angle model using an approximation network"
   ]
  },
  {
   "attachments": {},
   "cell_type": "markdown",
   "id": "ebe18bea-b7f4-4542-8293-7374f81c670e",
   "metadata": {
    "tags": []
   },
   "source": [
    "#### Simulating Angle Data"
   ]
  },
  {
   "cell_type": "code",
   "execution_count": null,
   "id": "32ce0b9a-f47b-40ff-96fd-85abb7cbeb9f",
   "metadata": {
    "pycharm": {
     "is_executing": true
    },
    "tags": []
   },
   "outputs": [],
   "source": [
    "# Simulate some data\n",
    "v_true, a_true, z_true, t_true, theta_true = [0.5, 1.5, 0.5, 0.5, 0.3]\n",
    "obs_angle = ssms.basic_simulators.simulator(\n",
    "    [v_true, a_true, z_true, t_true, theta_true], model=\"angle\", n_samples=1000\n",
    ")\n",
    "obs_angle = np.column_stack([obs_angle[\"rts\"][:, 0], obs_angle[\"choices\"][:, 0]])\n",
    "dataset_lan = pd.DataFrame(obs_angle, columns=[\"rt\", \"response\"])\n",
    "dataset_lan"
   ]
  },
  {
   "attachments": {},
   "cell_type": "markdown",
   "id": "1af3f068-c713-4292-bf11-90bf896196c8",
   "metadata": {},
   "source": [
    "This creates a default angle model using pytensor"
   ]
  },
  {
   "cell_type": "code",
   "execution_count": null,
   "id": "c2a2cf36-f851-49e3-ad31-114cdeb28032",
   "metadata": {
    "pycharm": {
     "is_executing": true
    },
    "tags": []
   },
   "outputs": [],
   "source": [
    "angle_model = hssm.HSSM(data=dataset_lan, model=\"angle\")\n",
    "angle_model"
   ]
  },
  {
   "cell_type": "code",
   "execution_count": null,
   "id": "18bd165c-b0d7-47cb-958e-da3d0e68d01f",
   "metadata": {
    "pycharm": {
     "is_executing": true
    },
    "tags": []
   },
   "outputs": [],
   "source": [
    "pytensor.config.floatX = \"float32\"\n",
    "\n",
    "angle_model.sample(cores=1, draws=500, tune=500, mp_ctx=\"forkserver\")"
   ]
  },
  {
   "cell_type": "code",
   "execution_count": null,
   "id": "1023e763-a747-4db0-9814-6cc3b0e343f6",
   "metadata": {
    "pycharm": {
     "is_executing": true
    },
    "tags": []
   },
   "outputs": [],
   "source": [
    "az.plot_trace(angle_model.traces);"
   ]
  },
  {
   "attachments": {},
   "cell_type": "markdown",
   "id": "3857a6cd-a82b-4905-ac10-2d523e3ee565",
   "metadata": {},
   "source": [
    "#### Sampling the angle model using jax"
   ]
  },
  {
   "cell_type": "code",
   "execution_count": null,
   "id": "c4325015-1aec-4791-9be6-800d3e60ed4b",
   "metadata": {
    "pycharm": {
     "is_executing": true
    },
    "tags": []
   },
   "outputs": [],
   "source": [
    "from jax.config import config\n",
    "\n",
    "config.update(\"jax_enable_x64\", False)\n",
    "\n",
    "angle_model.sample(sampler=\"nuts_numpyro\")"
   ]
  },
  {
   "cell_type": "code",
   "execution_count": null,
   "id": "fa21fda2-2077-4e65-bf64-5faf42242f95",
   "metadata": {
    "pycharm": {
     "is_executing": true
    },
    "tags": []
   },
   "outputs": [],
   "source": [
    "az.summary(angle_model.traces)"
   ]
  },
  {
   "attachments": {},
   "cell_type": "markdown",
   "id": "c0e5ef71-c461-4b93-8e41-278f89ddb38d",
   "metadata": {},
   "source": [
    "### Using include paramater to use regression and update priors."
   ]
  },
  {
   "attachments": {},
   "cell_type": "markdown",
   "id": "fdc351b5-50dc-4bfa-8ab7-790162574d30",
   "metadata": {},
   "source": [
    "#### Case 1: Regression type formula. "
   ]
  },
  {
   "cell_type": "code",
   "execution_count": null,
   "id": "1df5b0c8-e724-4cee-8b0e-dd3fb68cfd3b",
   "metadata": {
    "pycharm": {
     "is_executing": true
    },
    "tags": []
   },
   "outputs": [],
   "source": [
    "# get some fake simulation data\n",
    "intercept = 0.3\n",
    "x = np.random.uniform(0.5, 0.2, size=1000)\n",
    "y = np.random.uniform(0.4, 0.1, size=1000)\n",
    "\n",
    "v = intercept + 0.8 * x + 0.3 * y"
   ]
  },
  {
   "cell_type": "code",
   "execution_count": null,
   "id": "7837e8a7-6aee-437b-bce0-3b696549d6e5",
   "metadata": {
    "pycharm": {
     "is_executing": true
    },
    "tags": []
   },
   "outputs": [],
   "source": [
    "true_values = np.column_stack(\n",
    "    [v, np.repeat([[1.5, 0.5, 0.5, 0.0]], axis=0, repeats=1000)]\n",
    ")\n",
    "true_values.shape"
   ]
  },
  {
   "cell_type": "code",
   "execution_count": null,
   "id": "eb4d20a3-bf9e-4431-ac19-e1ab7a809623",
   "metadata": {
    "pycharm": {
     "is_executing": true
    },
    "tags": []
   },
   "outputs": [],
   "source": [
    "obs_ddm_reg_v = ssms.basic_simulators.simulator(true_values, model=\"ddm\", n_samples=1)\n",
    "obs_ddm_reg_v\n",
    "\n",
    "dataset_reg_v = pd.DataFrame(\n",
    "    {\n",
    "        \"rt\": obs_ddm_reg_v[\"rts\"].flatten(),\n",
    "        \"response\": obs_ddm_reg_v[\"choices\"].flatten(),\n",
    "        \"x\": x,\n",
    "        \"y\": y,\n",
    "    }\n",
    ")\n",
    "\n",
    "dataset_reg_v"
   ]
  },
  {
   "attachments": {},
   "cell_type": "markdown",
   "id": "4a261c99-437b-44de-93f4-c4d3d4f624f9",
   "metadata": {},
   "source": [
    "- v is parent\n",
    "- x is a feature from the dataset_reg_v\n",
    "- y is a feature from the dataset_reg_v"
   ]
  },
  {
   "cell_type": "code",
   "execution_count": null,
   "id": "f2c05579-67e8-45e8-99eb-b693b9fda79a",
   "metadata": {
    "pycharm": {
     "is_executing": true
    },
    "tags": []
   },
   "outputs": [],
   "source": [
    "model_reg_v = hssm.HSSM(\n",
    "    data=dataset_reg_v,\n",
    "    include=[\n",
    "        {\n",
    "            \"name\": \"v\",\n",
    "            \"prior\": {\n",
    "                \"Intercept\": {\"name\": \"Uniform\", \"lower\": 0.0, \"upper\": 0.5},\n",
    "                \"x\": {\"name\": \"Uniform\", \"lower\": 0.0, \"upper\": 1.0},\n",
    "                \"y\": {\"name\": \"Uniform\", \"lower\": 0.0, \"upper\": 1.0},\n",
    "            },\n",
    "            \"formula\": \"v ~ 1 + x + y\",\n",
    "            \"link\": \"identity\",\n",
    "        }\n",
    "    ],\n",
    ")\n",
    "model_reg_v"
   ]
  },
  {
   "cell_type": "code",
   "execution_count": null,
   "id": "b85b1c31-5e8b-4331-876d-2df99a0d1403",
   "metadata": {
    "pycharm": {
     "is_executing": true
    },
    "tags": []
   },
   "outputs": [],
   "source": [
    "model_reg_v.graph()"
   ]
  },
  {
   "cell_type": "code",
   "execution_count": null,
   "id": "f9030902-6d91-4722-b4f6-4237e5763103",
   "metadata": {
    "pycharm": {
     "is_executing": true
    },
    "tags": []
   },
   "outputs": [],
   "source": [
    "trace_reg_v = model_reg_v.sample()"
   ]
  },
  {
   "cell_type": "code",
   "execution_count": null,
   "id": "ce5fb2d4-19db-45e0-9fa8-ed6c8a80a979",
   "metadata": {
    "pycharm": {
     "is_executing": true
    }
   },
   "outputs": [],
   "source": [
    "az.plot_trace(model_reg_v.traces)"
   ]
  },
  {
   "cell_type": "code",
   "execution_count": null,
   "id": "9a3ddcec-c2ff-4560-90a8-272c4b113ddd",
   "metadata": {
    "pycharm": {
     "is_executing": true
    },
    "tags": []
   },
   "outputs": [],
   "source": [
    "# Looks like parameter recovery was successful\n",
    "az.summary(model_reg_v.traces)"
   ]
  },
  {
   "attachments": {},
   "cell_type": "markdown",
   "id": "faeba242-06fa-4c74-8905-8f9c386dcf9d",
   "metadata": {},
   "source": [
    "#### Case 2: adding initval to priors along with lower and upper."
   ]
  },
  {
   "attachments": {},
   "cell_type": "markdown",
   "id": "2c12201d-57d6-440d-8d8c-edb956aedde2",
   "metadata": {
    "tags": []
   },
   "source": [
    "- v is a parent\n",
    "- x is a feature from the dataset_reg_v\n",
    "\n",
    "Adding initval is optional."
   ]
  },
  {
   "cell_type": "code",
   "execution_count": null,
   "id": "f215b964-619f-416b-8921-4b4e2be625f9",
   "metadata": {
    "pycharm": {
     "is_executing": true
    },
    "tags": []
   },
   "outputs": [],
   "source": [
    "hssm_include_val = hssm.HSSM(\n",
    "    data=dataset_reg_v,\n",
    "    include=[\n",
    "        {\n",
    "            \"name\": \"v\",  # change to name\n",
    "            \"prior\": {\n",
    "                \"Intercept\": {\n",
    "                    \"name\": \"Uniform\",\n",
    "                    \"lower\": -3.0,\n",
    "                    \"upper\": 3.0,\n",
    "                    \"initval\": 1.0,\n",
    "                },\n",
    "                \"x\": {\"name\": \"Uniform\", \"lower\": -0.5, \"upper\": 0.5, \"initval\": 0},\n",
    "            },\n",
    "            \"formula\": \"v ~ 1 + x\",\n",
    "        }\n",
    "    ],\n",
    ")"
   ]
  },
  {
   "cell_type": "code",
   "execution_count": null,
   "id": "cc28c3a1-11c7-4cb8-98e2-f6289a2285d2",
   "metadata": {
    "pycharm": {
     "is_executing": true
    },
    "tags": []
   },
   "outputs": [],
   "source": [
    "hssm_include_val"
   ]
  },
  {
   "cell_type": "code",
   "execution_count": null,
   "id": "9e3df249-231e-4d48-87e5-9a3048bea90c",
   "metadata": {
    "pycharm": {
     "is_executing": true
    },
    "tags": []
   },
   "outputs": [],
   "source": [
    "samples_two = hssm_include_val.sample()"
   ]
  },
  {
   "cell_type": "code",
   "execution_count": null,
   "id": "3c80378c-9824-449b-9896-e0171a2c3b35",
   "metadata": {
    "pycharm": {
     "is_executing": true
    },
    "tags": []
   },
   "outputs": [],
   "source": [
    "az.summary(samples_two)"
   ]
  },
  {
   "attachments": {},
   "cell_type": "markdown",
   "id": "500f3959-b66b-4a96-ae5f-6bbbb174a09e",
   "metadata": {},
   "source": [
    "#### Case 3: not specifying parent v in the include parameter. "
   ]
  },
  {
   "attachments": {},
   "cell_type": "markdown",
   "id": "28dbf0d6-0ee2-4b9b-b840-6730e6992444",
   "metadata": {},
   "source": [
    "The parent is v by default, specifying it is not mandatory. "
   ]
  },
  {
   "cell_type": "code",
   "execution_count": null,
   "id": "a290d964-c4d1-4599-811c-819ffa24fa0b",
   "metadata": {
    "pycharm": {
     "is_executing": true
    },
    "tags": []
   },
   "outputs": [],
   "source": [
    "hssm_include_val = hssm.HSSM(\n",
    "    data=dataset_reg_v,\n",
    "    include=[\n",
    "        {\n",
    "            \"name\": \"a\",  # change to name\n",
    "            \"prior\": {\n",
    "                \"Intercept\": {\n",
    "                    \"name\": \"Uniform\",\n",
    "                    \"lower\": 0.0,\n",
    "                    \"upper\": 1.0,\n",
    "                    \"initval\": 0.5,\n",
    "                },\n",
    "                \"x\": {\"name\": \"Uniform\", \"lower\": -0.5, \"upper\": 0.5, \"initval\": 0},\n",
    "            },\n",
    "            \"formula\": \"a ~ 1 + x\",\n",
    "        }\n",
    "    ],\n",
    ")"
   ]
  },
  {
   "cell_type": "code",
   "execution_count": null,
   "id": "af84cb0a-a973-4ee0-a8bb-a5fde31f2dd9",
   "metadata": {
    "pycharm": {
     "is_executing": true
    },
    "tags": []
   },
   "outputs": [],
   "source": [
    "hssm_include_val"
   ]
  },
  {
   "cell_type": "code",
   "execution_count": null,
   "id": "5bf5b32b-ad58-4040-a028-3aefbdffb18d",
   "metadata": {
    "pycharm": {
     "is_executing": true
    },
    "tags": []
   },
   "outputs": [],
   "source": [
    "hssm_include_val.graph()"
   ]
  },
  {
   "cell_type": "code",
   "execution_count": null,
   "id": "4577d4d5-0e8e-4ec0-9504-4e0fc7b97073",
   "metadata": {
    "pycharm": {
     "is_executing": true
    },
    "tags": []
   },
   "outputs": [],
   "source": [
    "samples_three = hssm_include_val.sample(draws=500, tune=500)"
   ]
  },
  {
   "cell_type": "code",
   "execution_count": null,
   "id": "4ad1cbae-3726-4f6d-b930-661c78ba513d",
   "metadata": {
    "pycharm": {
     "is_executing": true
    },
    "tags": []
   },
   "outputs": [],
   "source": [
    "az.summary(samples_three)"
   ]
  },
  {
   "attachments": {},
   "cell_type": "markdown",
   "id": "e815f1b4-34fb-4cf1-b59c-408f2b36aef9",
   "metadata": {},
   "source": [
    "#### Case 4, including multiple dictionaries in the include parameter. Creating hierarchical model. "
   ]
  },
  {
   "cell_type": "code",
   "execution_count": null,
   "id": "d20835d7-3bd7-4516-8ccd-acd0c467fad0",
   "metadata": {
    "pycharm": {
     "is_executing": true
    },
    "tags": []
   },
   "outputs": [],
   "source": [
    "hssm_include_list = hssm.HSSM(\n",
    "    data=dataset_reg_v,\n",
    "    include=[\n",
    "        {\n",
    "            \"name\": \"v\",\n",
    "            \"prior\": {\n",
    "                \"Intercept\": {\"name\": \"Uniform\", \"lower\": -2.0, \"upper\": 3.0},\n",
    "                \"x\": {\"name\": \"Uniform\", \"lower\": -0.50, \"upper\": 0.50},\n",
    "                \"y\": {\"name\": \"Uniform\", \"lower\": -0.50, \"upper\": 0.50},\n",
    "            },\n",
    "            \"formula\": \"v ~ 1 + x + y\",\n",
    "        },\n",
    "        {\n",
    "            \"name\": \"a\",\n",
    "            \"prior\": {\n",
    "                \"Intercept\": {\"name\": \"Uniform\", \"lower\": -2.0, \"upper\": 3.0},\n",
    "                \"x\": {\"name\": \"Uniform\", \"lower\": -0.50, \"upper\": 0.50},\n",
    "                \"y\": {\"name\": \"Uniform\", \"lower\": -0.50, \"upper\": 0.50},\n",
    "            },\n",
    "            \"formula\": \"a ~ 1 + x + y\",\n",
    "        },\n",
    "    ],\n",
    ")"
   ]
  },
  {
   "cell_type": "code",
   "execution_count": null,
   "id": "91f8d657-96dd-4884-a17d-d25cdbcb14c7",
   "metadata": {
    "pycharm": {
     "is_executing": true
    },
    "tags": []
   },
   "outputs": [],
   "source": [
    "hssm_include_list.model"
   ]
  },
  {
   "cell_type": "code",
   "execution_count": null,
   "id": "6d3ddf2f-81c0-43e7-b341-747c70db312a",
   "metadata": {
    "pycharm": {
     "is_executing": true
    },
    "tags": []
   },
   "outputs": [],
   "source": [
    "hssm_include_list.graph()"
   ]
  },
  {
   "cell_type": "code",
   "execution_count": null,
   "id": "b85a8c55-ee52-481a-9009-74812a6c4006",
   "metadata": {
    "pycharm": {
     "is_executing": true
    },
    "tags": []
   },
   "outputs": [],
   "source": [
    "samples_two = hssm_include_list.sample(draws=100, tune=100)"
   ]
  },
  {
   "attachments": {},
   "cell_type": "markdown",
   "id": "ae52cd26-4802-4333-8652-57482a1f41f0",
   "metadata": {},
   "source": [
    "#### Case 5. including multiple dictionaries in the include parameter. Specifying prior as a float number. "
   ]
  },
  {
   "cell_type": "code",
   "execution_count": null,
   "id": "f47024b4-4bce-4640-bfea-08764a38bc4a",
   "metadata": {
    "pycharm": {
     "is_executing": true
    },
    "tags": []
   },
   "outputs": [],
   "source": [
    "hssm_include_list = hssm.HSSM(\n",
    "    data=dataset_reg_v,\n",
    "    include=[\n",
    "        {\n",
    "            \"name\": \"v\",  # change to name\n",
    "            \"prior\": {\n",
    "                \"Intercept\": {\"name\": \"Uniform\", \"lower\": -3.0, \"upper\": 3.0},\n",
    "                \"x\": {\"name\": \"Uniform\", \"lower\": -2.0, \"upper\": 1.0},\n",
    "                \"y\": {\"name\": \"Uniform\", \"lower\": -2.0, \"upper\": 1.0},\n",
    "            },\n",
    "            \"formula\": \"v ~ 1 + x + y\",\n",
    "        },\n",
    "        {\"name\": \"a\", \"prior\": 0.5},\n",
    "    ],\n",
    ")"
   ]
  },
  {
   "cell_type": "code",
   "execution_count": null,
   "id": "8dd7ff7b-321d-4c46-939e-3d0930f17823",
   "metadata": {
    "pycharm": {
     "is_executing": true
    },
    "tags": []
   },
   "outputs": [],
   "source": [
    "samples_three = hssm_include_list.sample(draws=100, tune=100)"
   ]
  },
  {
   "cell_type": "code",
   "execution_count": null,
   "metadata": {
    "collapsed": false,
    "pycharm": {
     "is_executing": true
    }
   },
   "outputs": [],
   "source": []
  }
 ],
 "metadata": {
  "kernelspec": {
   "display_name": "Python 3 (ipykernel)",
   "language": "python",
   "name": "python3"
  },
  "language_info": {
   "codemirror_mode": {
    "name": "ipython",
    "version": 3
   },
   "file_extension": ".py",
   "mimetype": "text/x-python",
   "name": "python",
   "nbconvert_exporter": "python",
   "pygments_lexer": "ipython3",
   "version": "3.9.13"
  }
 },
 "nbformat": 4,
 "nbformat_minor": 5
}
